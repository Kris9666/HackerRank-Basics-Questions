{
 "cells": [
  {
   "cell_type": "markdown",
   "id": "e31534fc",
   "metadata": {},
   "source": [
    "### HackerRank Python Strings"
   ]
  },
  {
   "cell_type": "markdown",
   "id": "64b1956c",
   "metadata": {},
   "source": [
    "#### 1. Swap Case"
   ]
  },
  {
   "cell_type": "code",
   "execution_count": 1,
   "id": "f8d22ec0",
   "metadata": {},
   "outputs": [
    {
     "name": "stdout",
     "output_type": "stream",
     "text": [
      "HackerRank.com presents \"Pythonist 2\".\n",
      "hACKERrANK.COM PRESENTS \"pYTHONIST 2\".\n"
     ]
    }
   ],
   "source": [
    "def swap_case(s):\n",
    "    s_new = \"\"\n",
    "    for i in range(len(s)):\n",
    "        if (s[i] == s[i].lower()):\n",
    "            s_new += s[i].upper()\n",
    "        else:\n",
    "            s_new += s[i].lower()\n",
    "    return s_new\n",
    "    \n",
    "\n",
    "if __name__ == '__main__':\n",
    "    s = input()\n",
    "    result = swap_case(s)\n",
    "    print(result)"
   ]
  },
  {
   "cell_type": "markdown",
   "id": "df8c187e",
   "metadata": {},
   "source": [
    "#### 2. String Split and Join"
   ]
  },
  {
   "cell_type": "code",
   "execution_count": 2,
   "id": "9efca34f",
   "metadata": {},
   "outputs": [
    {
     "name": "stdout",
     "output_type": "stream",
     "text": [
      "this is a string\n",
      "this-is-a-string\n"
     ]
    }
   ],
   "source": [
    "def split_and_join(line):\n",
    "    # write your code here\n",
    "    words = line.split(\" \")\n",
    "    ans = \"-\".join(words)\n",
    "    return ans\n",
    "    \n",
    "\n",
    "if __name__ == '__main__':\n",
    "    line = input()\n",
    "    result = split_and_join(line)\n",
    "    print(result)"
   ]
  },
  {
   "cell_type": "markdown",
   "id": "995eecd8",
   "metadata": {},
   "source": [
    "#### 3. What's Your Name?"
   ]
  },
  {
   "cell_type": "code",
   "execution_count": 3,
   "id": "36c8a611",
   "metadata": {},
   "outputs": [
    {
     "name": "stdout",
     "output_type": "stream",
     "text": [
      "Ross\n",
      "Taylor\n",
      "Hello Ross Taylor! You just delved into python.\n"
     ]
    }
   ],
   "source": [
    "def print_full_name(first, last):\n",
    "    # Write your code here\n",
    "    print(f\"Hello {first} {last}! You just delved into python.\")\n",
    "    return\n",
    "\n",
    "if __name__ == '__main__':\n",
    "    first_name = input()\n",
    "    last_name = input()\n",
    "    print_full_name(first_name, last_name)"
   ]
  },
  {
   "cell_type": "markdown",
   "id": "2b1cb7b5",
   "metadata": {},
   "source": [
    "#### 4. Mutations "
   ]
  },
  {
   "cell_type": "code",
   "execution_count": 6,
   "id": "45f7426f",
   "metadata": {},
   "outputs": [
    {
     "name": "stdout",
     "output_type": "stream",
     "text": [
      "abracadabra\n",
      "5 k\n",
      "abrackdabra\n"
     ]
    }
   ],
   "source": [
    "def mutate_string(string, position, character):\n",
    "    new_string = \"\"\n",
    "    for i in range(len(string)):\n",
    "        if i == position:\n",
    "            new_string += character\n",
    "        else:\n",
    "            new_string += string[i]\n",
    "    return new_string\n",
    "    \n",
    "if __name__ == '__main__':\n",
    "    s = input()\n",
    "    i, c = input().split()\n",
    "    s_new = mutate_string(s, int(i), c)\n",
    "    print(s_new)"
   ]
  },
  {
   "cell_type": "markdown",
   "id": "65470c9a",
   "metadata": {},
   "source": [
    "#### 5. Find a String"
   ]
  },
  {
   "cell_type": "code",
   "execution_count": 7,
   "id": "57b19965",
   "metadata": {},
   "outputs": [
    {
     "name": "stdout",
     "output_type": "stream",
     "text": [
      "ABCDCDC\n",
      "CDC\n",
      "2\n"
     ]
    }
   ],
   "source": [
    "def count_substring(string, sub_string):\n",
    "    count = 0\n",
    "    for i in range(len(string)):\n",
    "        if string[i: i+len(sub_string)] == sub_string:\n",
    "            count += 1\n",
    "    return count\n",
    "\n",
    "if __name__ == '__main__':\n",
    "    string = input().strip()\n",
    "    sub_string = input().strip()\n",
    "    \n",
    "    count = count_substring(string, sub_string)\n",
    "    print(count)"
   ]
  },
  {
   "cell_type": "markdown",
   "id": "8a64c2a7",
   "metadata": {},
   "source": [
    "#### 6. String Validators "
   ]
  },
  {
   "cell_type": "code",
   "execution_count": 8,
   "id": "79b6d8bf",
   "metadata": {},
   "outputs": [
    {
     "name": "stdout",
     "output_type": "stream",
     "text": [
      "qA2\n",
      "True\n",
      "True\n",
      "True\n",
      "True\n",
      "True\n"
     ]
    }
   ],
   "source": [
    "if __name__ == '__main__':\n",
    "    s = input()\n",
    "    print(any(i.isalnum() for i in s))\n",
    "    print(any(i.isalpha() for i in s))\n",
    "    print(any(i.isdigit() for i in s))\n",
    "    print(any(i.islower() for i in s))\n",
    "    print(any(i.isupper() for i in s))"
   ]
  },
  {
   "cell_type": "markdown",
   "id": "27cd6284",
   "metadata": {},
   "source": [
    "#### 7. Text Alignment "
   ]
  },
  {
   "cell_type": "code",
   "execution_count": 9,
   "id": "68c169e5",
   "metadata": {},
   "outputs": [
    {
     "name": "stdout",
     "output_type": "stream",
     "text": [
      "5\n",
      "    H    \n",
      "   HHH   \n",
      "  HHHHH  \n",
      " HHHHHHH \n",
      "HHHHHHHHH\n",
      "  HHHHH               HHHHH             \n",
      "  HHHHH               HHHHH             \n",
      "  HHHHH               HHHHH             \n",
      "  HHHHH               HHHHH             \n",
      "  HHHHH               HHHHH             \n",
      "  HHHHH               HHHHH             \n",
      "  HHHHHHHHHHHHHHHHHHHHHHHHH   \n",
      "  HHHHHHHHHHHHHHHHHHHHHHHHH   \n",
      "  HHHHHHHHHHHHHHHHHHHHHHHHH   \n",
      "  HHHHH               HHHHH             \n",
      "  HHHHH               HHHHH             \n",
      "  HHHHH               HHHHH             \n",
      "  HHHHH               HHHHH             \n",
      "  HHHHH               HHHHH             \n",
      "  HHHHH               HHHHH             \n",
      "                    HHHHHHHHH \n",
      "                     HHHHHHH  \n",
      "                      HHHHH   \n",
      "                       HHH    \n",
      "                        H     \n"
     ]
    }
   ],
   "source": [
    "#Replace all ______ with rjust, ljust or center. \n",
    "\n",
    "thickness = int(input()) #This must be an odd number\n",
    "c = 'H'\n",
    "\n",
    "#Top Cone\n",
    "for i in range(thickness):\n",
    "    print((c*i).rjust(thickness-1)+c+(c*i).ljust(thickness-1))\n",
    "\n",
    "#Top Pillars\n",
    "for i in range(thickness+1):\n",
    "    print((c*thickness).center(thickness*2)+(c*thickness).center(thickness*6))\n",
    "\n",
    "#Middle Belt\n",
    "for i in range((thickness+1)//2):\n",
    "    print((c*thickness*5).center(thickness*6))    \n",
    "\n",
    "#Bottom Pillars\n",
    "for i in range(thickness+1):\n",
    "    print((c*thickness).center(thickness*2)+(c*thickness).center(thickness*6))    \n",
    "\n",
    "#Bottom Cone\n",
    "for i in range(thickness):\n",
    "    print(((c*(thickness-i-1)).rjust(thickness)+c+(c*(thickness-i-1)).ljust(thickness)).rjust(thickness*6))"
   ]
  },
  {
   "cell_type": "markdown",
   "id": "483a396f",
   "metadata": {},
   "source": [
    "#### 8. Text Wrap"
   ]
  },
  {
   "cell_type": "code",
   "execution_count": 10,
   "id": "fcb398f5",
   "metadata": {},
   "outputs": [
    {
     "name": "stdout",
     "output_type": "stream",
     "text": [
      "ABCDEFGHIJKLIMNOQRSTUVWXYZ\n",
      "4\n",
      "ABCD\n",
      "EFGH\n",
      "IJKL\n",
      "IMNO\n",
      "QRST\n",
      "UVWX\n",
      "YZ\n"
     ]
    }
   ],
   "source": [
    "import textwrap\n",
    "\n",
    "def wrap(string, max_width):\n",
    "    return textwrap.fill(string, max_width)\n",
    "\n",
    "if __name__ == '__main__':\n",
    "    string, max_width = input(), int(input())\n",
    "    result = wrap(string, max_width)\n",
    "    print(result)"
   ]
  },
  {
   "cell_type": "markdown",
   "id": "7bd04f37",
   "metadata": {},
   "source": [
    "#### 9. Designer Door Mat"
   ]
  },
  {
   "cell_type": "code",
   "execution_count": 12,
   "id": "c3f10a0b",
   "metadata": {},
   "outputs": [
    {
     "name": "stdout",
     "output_type": "stream",
     "text": [
      "9 27\n",
      "------------.|.------------\n",
      "---------.|..|..|.---------\n",
      "------.|..|..|..|..|.------\n",
      "---.|..|..|..|..|..|..|.---\n",
      "----------WELCOME----------\n",
      "---.|..|..|..|..|..|..|.---\n",
      "------.|..|..|..|..|.------\n",
      "---------.|..|..|.---------\n",
      "------------.|.------------\n"
     ]
    }
   ],
   "source": [
    "n, m = map(int, input().strip().split())\n",
    "pattern = 1\n",
    "full_string = str()\n",
    "for i in range(1, n+1):\n",
    "    if i == (n//2)+1:\n",
    "        print(\"WELCOME\".center(m, \"-\"))\n",
    "        full_string += \"WELCOME\".center(m, \"-\") + \"\\n\"\n",
    "        pattern -= 2\n",
    "    elif i < (n//2)+1:\n",
    "        print((\".|.\"*pattern).center(m, \"-\"))\n",
    "        full_string += (\".|.\"*pattern).center(m, \"-\") + \"\\n\"\n",
    "        pattern += 2\n",
    "    elif i > (n//2)+1:\n",
    "        print((\".|.\"*pattern).center(m, \"-\"))\n",
    "        full_string += (\".|.\"*pattern).center(m, \"-\") + \"\\n\"\n",
    "        pattern -= 2"
   ]
  },
  {
   "cell_type": "markdown",
   "id": "3798aac9",
   "metadata": {},
   "source": [
    "#### 10. String Formatting"
   ]
  },
  {
   "cell_type": "code",
   "execution_count": 13,
   "id": "1ac7c167",
   "metadata": {},
   "outputs": [
    {
     "name": "stdout",
     "output_type": "stream",
     "text": [
      "17\n",
      "    1     1     1     1\n",
      "    2     2     2    10\n",
      "    3     3     3    11\n",
      "    4     4     4   100\n",
      "    5     5     5   101\n",
      "    6     6     6   110\n",
      "    7     7     7   111\n",
      "    8    10     8  1000\n",
      "    9    11     9  1001\n",
      "   10    12     A  1010\n",
      "   11    13     B  1011\n",
      "   12    14     C  1100\n",
      "   13    15     D  1101\n",
      "   14    16     E  1110\n",
      "   15    17     F  1111\n",
      "   16    20    10 10000\n",
      "   17    21    11 10001\n"
     ]
    }
   ],
   "source": [
    "def print_formatted(number):\n",
    "    # your code goes here\n",
    "    width = len(format(number, 'b'))\n",
    "    \n",
    "    for i in range(1, number + 1, 1):\n",
    "        dec = str(i).rjust(width,' ')\n",
    "        oct = format(i, \"o\").rjust(width, ' ')\n",
    "        hex = format(i, \"X\").rjust(width, ' ')\n",
    "        bin = format(i, 'b').rjust(width, ' ')\n",
    "        \n",
    "        print(f\"{dec} {oct} {hex} {bin}\")\n",
    "\n",
    "if __name__ == '__main__':\n",
    "    n = int(input())\n",
    "    print_formatted(n)"
   ]
  },
  {
   "cell_type": "markdown",
   "id": "4c927d36",
   "metadata": {},
   "source": [
    "#### 11. Albhabet Rangoli "
   ]
  },
  {
   "cell_type": "code",
   "execution_count": 14,
   "id": "c571432a",
   "metadata": {},
   "outputs": [
    {
     "name": "stdout",
     "output_type": "stream",
     "text": [
      "5\n",
      "--------e--------\n",
      "------e-d-e------\n",
      "----e-d-c-d-e----\n",
      "--e-d-c-b-c-d-e--\n",
      "e-d-c-b-a-b-c-d-e\n",
      "--e-d-c-b-c-d-e--\n",
      "----e-d-c-d-e----\n",
      "------e-d-e------\n",
      "--------e--------\n"
     ]
    }
   ],
   "source": [
    "import string\n",
    "\n",
    "def print_rangoli(size):\n",
    "    letters = string.ascii_lowercase[:size]\n",
    "    width = 4 * size - 3\n",
    "    \n",
    "    for i in range(size-1,0,-1):\n",
    "        line = '-'.join(letters[size - 1: i: -1] + letters[i: size])\n",
    "        print(line.center(width, '-'))\n",
    "    for i in range(size):\n",
    "        line = '-'.join(letters[size - 1: i: -1] + letters[i: size])\n",
    "        print(line.center(width, '-'))\n",
    "\n",
    "if __name__ == '__main__':\n",
    "    n = int(input())\n",
    "    print_rangoli(n)"
   ]
  },
  {
   "cell_type": "markdown",
   "id": "cf31acc1",
   "metadata": {},
   "source": [
    "#### 12. Capitalize "
   ]
  },
  {
   "cell_type": "code",
   "execution_count": null,
   "id": "264ed37c",
   "metadata": {},
   "outputs": [],
   "source": [
    "#!/bin/python3\n",
    "\n",
    "import math\n",
    "import os\n",
    "import random\n",
    "import re\n",
    "import sys\n",
    "\n",
    "# Complete the solve function below.\n",
    "def solve(s):\n",
    "    output = \"\"\n",
    "    for i in range(0,len(s)):\n",
    "        if i == 0:\n",
    "            output += (s[i].upper())\n",
    "        elif s[i-1] == \" \":\n",
    "            output += (s[i].upper())\n",
    "        else:\n",
    "            output += s[i]\n",
    "    return output\n",
    "    \n",
    "\n",
    "if __name__ == '__main__':\n",
    "    fptr = open(os.environ['OUTPUT_PATH'], 'w')\n",
    "    s = input()\n",
    "    result = solve(s)\n",
    "    fptr.write(result + '\\n')\n",
    "    fptr.close()"
   ]
  },
  {
   "cell_type": "markdown",
   "id": "3a74bc32",
   "metadata": {},
   "source": [
    "#### 13. The Minion Game"
   ]
  },
  {
   "cell_type": "code",
   "execution_count": 16,
   "id": "c6663ab4",
   "metadata": {},
   "outputs": [
    {
     "name": "stdout",
     "output_type": "stream",
     "text": [
      "BANANA\n",
      "Stuart 12\n"
     ]
    }
   ],
   "source": [
    "def minion_game(string):\n",
    "    kevin, stuart = 0, 0\n",
    "    vowels = 'AEIOU'\n",
    "    n = len(string)\n",
    "    for i, c in enumerate(string):\n",
    "        if vowels.find(c) != -1:\n",
    "            kevin += n - i\n",
    "        else:\n",
    "            stuart += n - i\n",
    "    if kevin - stuart != 0:\n",
    "        print(f'Kevin {kevin}' if kevin > stuart else f'Stuart {stuart}')\n",
    "    else:\n",
    "        print('Draw')\n",
    "\n",
    "if __name__ == '__main__':\n",
    "    s = input()\n",
    "    minion_game(s)"
   ]
  },
  {
   "cell_type": "markdown",
   "id": "5996754d",
   "metadata": {},
   "source": [
    "#### 14. Merge the Tools!"
   ]
  },
  {
   "cell_type": "code",
   "execution_count": 17,
   "id": "bbdaaa54",
   "metadata": {},
   "outputs": [
    {
     "name": "stdout",
     "output_type": "stream",
     "text": [
      "AABCAAADA\n",
      "3\n",
      "AB\n",
      "CA\n",
      "AD\n"
     ]
    }
   ],
   "source": [
    "def merge_the_tools(string, k):\n",
    "    ns = ''\n",
    "    for i,char in enumerate(string,1):\n",
    "        if char not in ns:\n",
    "            ns=''.join((ns,char))\n",
    "        if i%k==0:\n",
    "            print(ns)\n",
    "            ns=''\n",
    "\n",
    "if __name__ == '__main__':\n",
    "    string, k = input(), int(input())\n",
    "    merge_the_tools(string, k)"
   ]
  }
 ],
 "metadata": {
  "kernelspec": {
   "display_name": "Python 3",
   "language": "python",
   "name": "python3"
  },
  "language_info": {
   "codemirror_mode": {
    "name": "ipython",
    "version": 3
   },
   "file_extension": ".py",
   "mimetype": "text/x-python",
   "name": "python",
   "nbconvert_exporter": "python",
   "pygments_lexer": "ipython3",
   "version": "3.9.4"
  }
 },
 "nbformat": 4,
 "nbformat_minor": 5
}
