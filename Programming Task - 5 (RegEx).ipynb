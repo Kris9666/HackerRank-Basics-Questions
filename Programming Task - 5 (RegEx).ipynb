{
 "cells": [
  {
   "cell_type": "markdown",
   "id": "92bfa3df",
   "metadata": {},
   "source": [
    "### HackerRank Python Regex"
   ]
  },
  {
   "cell_type": "markdown",
   "id": "ea15a9bd",
   "metadata": {},
   "source": [
    "#### 1. Detect Floating Point Number "
   ]
  },
  {
   "cell_type": "code",
   "execution_count": 2,
   "id": "83ae33c5",
   "metadata": {},
   "outputs": [
    {
     "name": "stdout",
     "output_type": "stream",
     "text": [
      "4\n",
      "4.000\n",
      "True\n",
      "4.0O0\n",
      "False\n",
      "+4.54\n",
      "True\n",
      "sdnsjfnj\n",
      "False\n"
     ]
    }
   ],
   "source": [
    "import re\n",
    "pattern = r'^[+-.]\\d+\\.\\d+|\\d+\\.\\d+$|[+-]\\.\\d+'\n",
    "n = int(input())\n",
    "for i in range(n):\n",
    "    target = input()\n",
    "    if re.fullmatch(pattern,target):\n",
    "        print('True')\n",
    "    else:\n",
    "        print('False')"
   ]
  },
  {
   "cell_type": "markdown",
   "id": "557cda00",
   "metadata": {},
   "source": [
    "#### 2. Re.split() "
   ]
  },
  {
   "cell_type": "code",
   "execution_count": 5,
   "id": "3010d9fe",
   "metadata": {},
   "outputs": [
    {
     "name": "stdout",
     "output_type": "stream",
     "text": [
      "100,000,000.000\n",
      "100\n",
      "000\n",
      "000\n",
      "000\n"
     ]
    }
   ],
   "source": [
    "import re\n",
    "regex_pattern = r\"[,.]\"\n",
    "print(\"\\n\".join(re.split(regex_pattern, input())))"
   ]
  },
  {
   "cell_type": "markdown",
   "id": "683c0c71",
   "metadata": {},
   "source": [
    "#### 3. Group(), Groups() & GroupDict()"
   ]
  },
  {
   "cell_type": "code",
   "execution_count": 6,
   "id": "ef660dbc",
   "metadata": {},
   "outputs": [
    {
     "name": "stdout",
     "output_type": "stream",
     "text": [
      "..12345678910111213141516171820212223\n",
      "1\n"
     ]
    }
   ],
   "source": [
    "import re\n",
    "S = input()\n",
    "pattern = r'([a-zA-Z0-9])\\1+'\n",
    "match = re.search(pattern, S)\n",
    "if match:\n",
    "    print(match.group(1))\n",
    "else:\n",
    "    print(-1)"
   ]
  },
  {
   "cell_type": "markdown",
   "id": "ea903748",
   "metadata": {},
   "source": [
    "#### 4. Re.findall() & Re.finditer() "
   ]
  },
  {
   "cell_type": "code",
   "execution_count": 7,
   "id": "892a69de",
   "metadata": {},
   "outputs": [
    {
     "name": "stdout",
     "output_type": "stream",
     "text": [
      "rabcdeefgyYhFjkIoomnpOeorteeeeet\n",
      "ee\n",
      "Ioo\n",
      "Oeo\n",
      "eeeee\n"
     ]
    }
   ],
   "source": [
    "import re\n",
    "pattern = r'[aeiouAEIOU^]?[aeiouAEIOU]{2,}[^aeiouAEIOU$]'\n",
    "value = re.findall(pattern,input())\n",
    "if value:\n",
    "    [print(i[:-1]) for i in value]\n",
    "else:\n",
    "    print(-1)"
   ]
  },
  {
   "cell_type": "markdown",
   "id": "47b0899f",
   "metadata": {},
   "source": [
    "#### 5. Re.start() & Re.end() "
   ]
  },
  {
   "cell_type": "code",
   "execution_count": 8,
   "id": "ae0001b0",
   "metadata": {},
   "outputs": [
    {
     "name": "stdout",
     "output_type": "stream",
     "text": [
      "aaadaa\n",
      "aa\n",
      "(0, 1)\n",
      "(1, 2)\n",
      "(4, 5)\n"
     ]
    }
   ],
   "source": [
    "s,k = input(),input()\n",
    "patter = re.compile(k)\n",
    "m=patter.search(s)\n",
    "\n",
    "if not m:\n",
    "        print((-1,-1))  \n",
    "while m:\n",
    "    print((m.start(),m.end()-1))\n",
    "    m=patter.search(s,m.start()+1)"
   ]
  },
  {
   "cell_type": "markdown",
   "id": "9e7272de",
   "metadata": {},
   "source": [
    "#### 6. Regex Substitution "
   ]
  },
  {
   "cell_type": "code",
   "execution_count": null,
   "id": "cafe32f0",
   "metadata": {},
   "outputs": [],
   "source": [
    "import re\n",
    "trans = {'||': 'or', '&&': 'and'}\n",
    "for _ in range(int(input())):\n",
    "    print(re.sub('(?!^)(?<= )(\\|\\||&&)(?= )', lambda m: trans[m.group(1)], input()))"
   ]
  },
  {
   "cell_type": "markdown",
   "id": "5cb26c67",
   "metadata": {},
   "source": [
    "#### 7. Validating Roman Numerals "
   ]
  },
  {
   "cell_type": "code",
   "execution_count": 12,
   "id": "661b740b",
   "metadata": {},
   "outputs": [
    {
     "name": "stdout",
     "output_type": "stream",
     "text": [
      "CDXXI\n",
      "True\n"
     ]
    }
   ],
   "source": [
    "import re\n",
    "regex_pattern = r\"^(?=[MDCLXVI])M{0,3}(C[MD]|D?C{0,3})(X[CL]|L?X{0,3})(I[XV]|V?I{0,3})$\"\n",
    "print(str(bool(re.match(regex_pattern, input()))))"
   ]
  },
  {
   "cell_type": "markdown",
   "id": "1cca2716",
   "metadata": {},
   "source": [
    "#### 8. Validating Phone Numbers "
   ]
  },
  {
   "cell_type": "code",
   "execution_count": 13,
   "id": "543122fb",
   "metadata": {},
   "outputs": [
    {
     "name": "stdout",
     "output_type": "stream",
     "text": [
      "2\n",
      "9587456281\n",
      "YES\n",
      "1252478965\n",
      "NO\n"
     ]
    }
   ],
   "source": [
    "import re\n",
    "\n",
    "for _ in range(int(input())):\n",
    "    print('YES' if re.match(r'^[7-9]\\d{9}$', input()) else 'NO')"
   ]
  },
  {
   "cell_type": "markdown",
   "id": "f67a015b",
   "metadata": {},
   "source": [
    "#### 9. Validating and Parsing Email Adresses "
   ]
  },
  {
   "cell_type": "code",
   "execution_count": 14,
   "id": "64cc321e",
   "metadata": {},
   "outputs": [
    {
     "name": "stdout",
     "output_type": "stream",
     "text": [
      "2\n",
      "DEXTER <dexter@hotmail.com>\n",
      "DEXTER <dexter@hotmail.com>\n",
      "VIRUS <virus!@variable.:p>\n"
     ]
    }
   ],
   "source": [
    "import email.utils\n",
    "import re\n",
    "\n",
    "for _ in range(int(input())):\n",
    "    parser = email.utils.parseaddr(input())\n",
    "    email_pattern = r\"^[a-z][\\w\\-.]*@[a-z]+\\.[a-z]{1,3}$\"\n",
    "    match = re.search(email_pattern, parser[1], re.I)\n",
    "    if match:\n",
    "        print(email.utils.formataddr(parser))"
   ]
  },
  {
   "cell_type": "markdown",
   "id": "1b2dcb2b",
   "metadata": {},
   "source": [
    "#### 10. Hex Color Code "
   ]
  },
  {
   "cell_type": "code",
   "execution_count": null,
   "id": "47561bd2",
   "metadata": {},
   "outputs": [],
   "source": [
    "import re\n",
    "\n",
    "pattern = re.compile(r'#([0-9a-fA-F]{1,2}){3}')\n",
    "\n",
    "res = []\n",
    "for _ in range(int(input())):\n",
    "    s = input()\n",
    "    if s.endswith(';'):\n",
    "        res += [m.group(0) for m in re.finditer(pattern, s)]\n",
    "print(*res, sep='\\n')"
   ]
  },
  {
   "cell_type": "markdown",
   "id": "29ca24e0",
   "metadata": {},
   "source": [
    "#### 11. HTML Parser - Part1"
   ]
  },
  {
   "cell_type": "code",
   "execution_count": null,
   "id": "308c9dfa",
   "metadata": {},
   "outputs": [],
   "source": [
    "from html.parser import HTMLParser\n",
    "\n",
    "def show(attrs):\n",
    "    for attr in attrs:\n",
    "            print(\"-> {0} > {1}\".format(attr[0], attr[1]))\n",
    "            \n",
    "class MyHTMLParser(HTMLParser):\n",
    "    def handle_starttag(self, tag, attrs):\n",
    "        print(f\"Start : {tag}\")\n",
    "        show(attrs)\n",
    "            \n",
    "    def handle_endtag(self, tag):\n",
    "        print(\"End   : \" + tag)\n",
    "\n",
    "    def handle_startendtag(self, tag, attrs):\n",
    "        print(\"Empty :\", tag)\n",
    "        show(attrs)\n",
    "        \n",
    "parser = MyHTMLParser()\n",
    "parser.feed(''.join([input() for _ in range(int(input()))]))"
   ]
  },
  {
   "cell_type": "markdown",
   "id": "192c512a",
   "metadata": {},
   "source": [
    "#### 12. HTML Parser - Part2 "
   ]
  },
  {
   "cell_type": "code",
   "execution_count": null,
   "id": "f2c9e54d",
   "metadata": {},
   "outputs": [],
   "source": [
    "from html.parser import HTMLParser\n",
    "\n",
    "class MyHTMLParser(HTMLParser):\n",
    "    def handle_comment(self, data):\n",
    "        data = str(data).split('\\n')\n",
    "        if len(data)>1:\n",
    "            print('>>> Multi-line Comment', *data, sep='\\n')\n",
    "        else:\n",
    "            print('>>> Single-line Comment', data[0], sep='\\n')            \n",
    "    def handle_data(self, data):\n",
    "        data = str(data).replace('\\n', '')\n",
    "        if len(data)>0:\n",
    "            print('>>> Data', data, sep='\\n')\n",
    "  \n",
    "  \n",
    "html = \"\"       \n",
    "for i in range(int(input())):\n",
    "    html += input().rstrip()\n",
    "    html += '\\n'\n",
    "    \n",
    "parser = MyHTMLParser()\n",
    "parser.feed(html)\n",
    "parser.close()"
   ]
  },
  {
   "cell_type": "markdown",
   "id": "b2fd0153",
   "metadata": {},
   "source": [
    "#### 13. Detect HTML Tags, Attributes and Attributes Value "
   ]
  },
  {
   "cell_type": "code",
   "execution_count": null,
   "id": "857bd326",
   "metadata": {},
   "outputs": [],
   "source": [
    "from html.parser import HTMLParser\n",
    "\n",
    "class MyHTMLParser(HTMLParser):\n",
    "    def handle_starttag(self, tag, attrs):\n",
    "        print(tag, *('-> {0} > {1}'.format(*attr) for attr in attrs), sep='\\n')\n",
    "\n",
    "MyHTMLParser().feed(''.join([input() for _ in range(int(input()))]))"
   ]
  },
  {
   "cell_type": "markdown",
   "id": "ba703ca3",
   "metadata": {},
   "source": [
    "#### 14. Validating UID "
   ]
  },
  {
   "cell_type": "code",
   "execution_count": 16,
   "id": "80cf23ef",
   "metadata": {},
   "outputs": [
    {
     "name": "stdout",
     "output_type": "stream",
     "text": [
      "2\n",
      "B1CD102354\n",
      "Invalid\n",
      "B1CDEF2354\n",
      "Valid\n"
     ]
    }
   ],
   "source": [
    "import re\n",
    "\n",
    "def is_valid_uid(uid):\n",
    "    return all([\n",
    "        re.search(r'[A-Z].*[A-Z]', uid),\n",
    "        re.search(r'\\d.*\\d.*\\d', uid),\n",
    "        not re.search(r'\\W', uid),\n",
    "        len(set(uid)) == 10,\n",
    "        len(uid) == 10\n",
    "    ])\n",
    "\n",
    "t = int(input().strip())\n",
    "\n",
    "for i in range(t):\n",
    "    uid = input().strip()\n",
    "    if is_valid_uid(uid):\n",
    "        print(\"Valid\")\n",
    "    else:\n",
    "        print(\"Invalid\")"
   ]
  },
  {
   "cell_type": "markdown",
   "id": "2e6f603e",
   "metadata": {},
   "source": [
    "#### 15. Validating Credit Card Numbers "
   ]
  },
  {
   "cell_type": "code",
   "execution_count": 17,
   "id": "462bd52f",
   "metadata": {},
   "outputs": [
    {
     "name": "stdout",
     "output_type": "stream",
     "text": [
      "2\n",
      "4123456789123456\n",
      "Valid\n",
      "61234-567-8912-3456\n",
      "Invalid\n"
     ]
    }
   ],
   "source": [
    "import re\n",
    "\n",
    "for i in range(int(input())):\n",
    "    \n",
    "    text = input()\n",
    "    pattern = re.compile(r\"^([456][\\d+]{3})-([\\d+]{4})-([\\d+]{4})-([\\d+]{4})$|^([456][\\d+]{15})$\")\n",
    "\n",
    "    if pattern.match(text):\n",
    "        text = ''.join([i for i in text if i != '-'])\n",
    "        if all([False if i*4 in text  else True for i in set(text)]):\n",
    "            print(\"Valid\")\n",
    "        else:\n",
    "            print(\"Invalid\")\n",
    "    else:\n",
    "        print(\"Invalid\")  "
   ]
  },
  {
   "cell_type": "markdown",
   "id": "911ca231",
   "metadata": {},
   "source": [
    "#### 16. Validating Postal Codes "
   ]
  },
  {
   "cell_type": "code",
   "execution_count": 18,
   "id": "b949c558",
   "metadata": {},
   "outputs": [
    {
     "name": "stdout",
     "output_type": "stream",
     "text": [
      "110000\n",
      "False\n"
     ]
    }
   ],
   "source": [
    "regex_integer_in_range = r\"^[1-9]\\d{5}$\"\t# Do not delete 'r'.\n",
    "regex_alternating_repetitive_digit_pair = r\"(\\d)(?=\\d\\1)\"\t# Do not delete 'r'.\n",
    "\n",
    "\n",
    "import re\n",
    "P = input()\n",
    "\n",
    "print (bool(re.match(regex_integer_in_range, P)) \n",
    "and len(re.findall(regex_alternating_repetitive_digit_pair, P)) < 2)"
   ]
  },
  {
   "cell_type": "markdown",
   "id": "1c2d5e21",
   "metadata": {},
   "source": [
    "#### 17.  Matrix Script"
   ]
  },
  {
   "cell_type": "code",
   "execution_count": null,
   "id": "fd2056f6",
   "metadata": {},
   "outputs": [],
   "source": [
    "import re\n",
    "\n",
    "first_multiple_input = input().rstrip().split()\n",
    "\n",
    "n = int(first_multiple_input[0])\n",
    "\n",
    "m = int(first_multiple_input[1])\n",
    "\n",
    "matrix = []\n",
    "\n",
    "for _ in range(n):\n",
    "    matrix_item = input()\n",
    "    matrix.append(matrix_item)\n",
    "\n",
    "transponded = \"\".join([matrix[j][i] for i in range(m) for j in range(n)])\n",
    "\n",
    "ending = re.search(\"[^a-zA-Z0-9]*$\", transponded).group()[1:]\n",
    "middle = re.sub(\"[^a-zA-Z0-9]+\", \" \", transponded).strip()\n",
    "begining = re.search(\"^[^a-zA-Z0-9]*\", transponded).group()[:-1]\n",
    "\n",
    "result = \"\"\n",
    "result += begining\n",
    "result += middle\n",
    "result += ending\n",
    "\n",
    "print(result)"
   ]
  }
 ],
 "metadata": {
  "kernelspec": {
   "display_name": "Python 3",
   "language": "python",
   "name": "python3"
  },
  "language_info": {
   "codemirror_mode": {
    "name": "ipython",
    "version": 3
   },
   "file_extension": ".py",
   "mimetype": "text/x-python",
   "name": "python",
   "nbconvert_exporter": "python",
   "pygments_lexer": "ipython3",
   "version": "3.9.4"
  }
 },
 "nbformat": 4,
 "nbformat_minor": 5
}
