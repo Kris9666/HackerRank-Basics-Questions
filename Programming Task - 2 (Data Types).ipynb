{
 "cells": [
  {
   "cell_type": "markdown",
   "id": "d657f9a0",
   "metadata": {},
   "source": [
    "### HackerRank Python - Data Types "
   ]
  },
  {
   "cell_type": "markdown",
   "id": "b47d2f1e",
   "metadata": {},
   "source": [
    "#### 1. List Comprehensions "
   ]
  },
  {
   "cell_type": "code",
   "execution_count": 1,
   "id": "f518bf0a",
   "metadata": {},
   "outputs": [
    {
     "name": "stdout",
     "output_type": "stream",
     "text": [
      "2\n",
      "2\n",
      "2\n",
      "2\n",
      "[[0, 0, 0], [0, 0, 1], [0, 1, 0], [0, 1, 2], [0, 2, 1], [0, 2, 2], [1, 0, 0], [1, 0, 2], [1, 1, 1], [1, 1, 2], [1, 2, 0], [1, 2, 1], [1, 2, 2], [2, 0, 1], [2, 0, 2], [2, 1, 0], [2, 1, 1], [2, 1, 2], [2, 2, 0], [2, 2, 1], [2, 2, 2]]\n"
     ]
    }
   ],
   "source": [
    "if __name__ == '__main__':\n",
    "    x = int(input())\n",
    "    y = int(input())\n",
    "    z = int(input())\n",
    "    n = int(input())\n",
    "    a = []\n",
    "    for i in range(0, x+1):\n",
    "        for j in range(0, y+1):\n",
    "            for k in range(0, z+1):\n",
    "                if i+j+k != n:\n",
    "                    a.append([i,j,k])\n",
    "    print(a)"
   ]
  },
  {
   "cell_type": "markdown",
   "id": "ac0cd611",
   "metadata": {},
   "source": [
    "#### 2. Find the Runner Up Score! "
   ]
  },
  {
   "cell_type": "code",
   "execution_count": 2,
   "id": "e4dc6d77",
   "metadata": {},
   "outputs": [
    {
     "name": "stdout",
     "output_type": "stream",
     "text": [
      "5\n",
      "2 3 6 5 5\n",
      "5\n"
     ]
    }
   ],
   "source": [
    "if __name__ == '__main__':\n",
    "    n = int(input())\n",
    "    arr = map(int, input().split())\n",
    "    # Coveritng into set and then sort the set\n",
    "    arr = sorted(set(arr),reverse=True)\n",
    "    print(arr[1])"
   ]
  },
  {
   "cell_type": "markdown",
   "id": "3e98977d",
   "metadata": {},
   "source": [
    "#### 3. Finding the percentage "
   ]
  },
  {
   "cell_type": "code",
   "execution_count": 3,
   "id": "b0b501ef",
   "metadata": {},
   "outputs": [
    {
     "name": "stdout",
     "output_type": "stream",
     "text": [
      "3\n",
      "Krishna 67 68 69\n",
      "Arjun 70 98 63\n",
      "Malika 52 56 60\n",
      "Malika\n",
      "56.00\n"
     ]
    }
   ],
   "source": [
    "if __name__ == '__main__':\n",
    "    n = int(input())\n",
    "    student_marks = {}\n",
    "    for _ in range(n):\n",
    "        name, *line = input().split()\n",
    "        scores = list(map(float, line))\n",
    "        student_marks[name] = scores\n",
    "    query_name = input()\n",
    "    \n",
    "    total_score = sum([score for score in student_marks[query_name]])\n",
    "    ans = total_score / len(student_marks[query_name])\n",
    "    print('%.2f' %(ans))"
   ]
  },
  {
   "cell_type": "markdown",
   "id": "38345b0d",
   "metadata": {},
   "source": [
    "#### 4. Lists "
   ]
  },
  {
   "cell_type": "code",
   "execution_count": 4,
   "id": "c7114fb8",
   "metadata": {},
   "outputs": [
    {
     "name": "stdout",
     "output_type": "stream",
     "text": [
      "12\n",
      "insert 0 5\n",
      "insert 1 10\n",
      "insert 0 6\n",
      "print\n",
      "[6, 5, 10]\n",
      "remove 6\n",
      "append 9\n",
      "append 1\n",
      "sort\n",
      "print\n",
      "[1, 5, 9, 10]\n",
      "pop\n",
      "reverse\n",
      "print\n",
      "[9, 5, 1]\n"
     ]
    }
   ],
   "source": [
    "if __name__ == '__main__':\n",
    "    N = int(input())\n",
    "    l  = []\n",
    "    for _ in range(N):\n",
    "        inp = input().split()\n",
    "        if 'insert' in inp:\n",
    "            l.insert(int(inp[1]), int(inp[2]))\n",
    "        elif 'print' in inp:\n",
    "            print(l)\n",
    "        elif 'remove' in inp:\n",
    "            l.remove(int(inp[1]))\n",
    "        elif 'append' in inp:\n",
    "            l.append(int(inp[1]))\n",
    "        elif 'sort' in inp:\n",
    "            l.sort()\n",
    "        elif 'pop' in inp:\n",
    "            l.pop()\n",
    "        elif 'reverse' in inp:\n",
    "            l.reverse()"
   ]
  },
  {
   "cell_type": "markdown",
   "id": "b5d7b6de",
   "metadata": {},
   "source": [
    "#### 5. Nested Lists"
   ]
  },
  {
   "cell_type": "code",
   "execution_count": 5,
   "id": "cba787eb",
   "metadata": {},
   "outputs": [
    {
     "name": "stdout",
     "output_type": "stream",
     "text": [
      "5\n",
      "Harry\n",
      "37.21\n",
      "Berry\n",
      "37.21\n",
      "Tina\n",
      "37.2\n",
      "Akriti\n",
      "41\n",
      "Harsh\n",
      "39\n",
      "Berry\n",
      "Harry\n"
     ]
    }
   ],
   "source": [
    "if __name__ == '__main__':\n",
    "    score_list = []\n",
    "    temp = []\n",
    "    temp1 = []\n",
    "    for _ in range(int(input())):\n",
    "        name = input()\n",
    "        score = float(input())\n",
    "        temp.append([name,score])\n",
    "        score_list.append(score)\n",
    "    score_list=list(set(score_list))\n",
    "    score_list.sort()\n",
    "    seclowest= score_list[1]\n",
    "    for i in range(len(temp)):\n",
    "        if temp[i][1]==seclowest:\n",
    "            temp1.append(temp[i][0])\n",
    "    temp1.sort()\n",
    "    for j in range(len(temp1)):\n",
    "        print(temp1[j])"
   ]
  },
  {
   "cell_type": "markdown",
   "id": "af6f5704",
   "metadata": {},
   "source": [
    "#### 6. Tuples"
   ]
  },
  {
   "cell_type": "code",
   "execution_count": null,
   "id": "ad13f2dd",
   "metadata": {},
   "outputs": [],
   "source": [
    "if __name__ == '__main__':\n",
    "    n = int(input())\n",
    "    integer_list = map(int, input().split())\n",
    "    int_tuple = tuple(integer_list)\n",
    "    print(hash(int_tuple))"
   ]
  },
  {
   "cell_type": "markdown",
   "id": "7368c957",
   "metadata": {},
   "source": [
    "#### 7. Introductions to Sets"
   ]
  },
  {
   "cell_type": "code",
   "execution_count": 7,
   "id": "25ddf037",
   "metadata": {},
   "outputs": [
    {
     "name": "stdout",
     "output_type": "stream",
     "text": [
      "10\n",
      "161 182 161 154 176 170 167 171 170 174\n",
      "169.375\n"
     ]
    }
   ],
   "source": [
    "def average(array):\n",
    "    temp_arr = set(array)\n",
    "    return sum(temp_arr) / len(temp_arr)\n",
    "    \n",
    "\n",
    "if __name__ == '__main__':\n",
    "    n = int(input())\n",
    "    arr = list(map(int, input().split()))\n",
    "    result = average(arr)\n",
    "    print(result)"
   ]
  },
  {
   "cell_type": "markdown",
   "id": "dd71d9e2",
   "metadata": {},
   "source": [
    "#### 8. No Idea! "
   ]
  },
  {
   "cell_type": "code",
   "execution_count": 8,
   "id": "1aec0e63",
   "metadata": {},
   "outputs": [
    {
     "name": "stdout",
     "output_type": "stream",
     "text": [
      "3 2\n",
      "1 5 3\n",
      "3 1\n",
      "5 7\n",
      "1\n"
     ]
    }
   ],
   "source": [
    "n,m = list(map(int, input().split()))\n",
    "arr, a, b = list(map(int, input().split())), set(map(int, input().split())), set(map(int, input().split()))\n",
    "\n",
    "x = set(arr) & a \n",
    "y = set(arr) & b\n",
    "c = 0\n",
    "for i in arr:\n",
    "    if i in x: \n",
    "        c += 1\n",
    "    elif i in y: \n",
    "        c -= 1\n",
    "\n",
    "print(c)"
   ]
  },
  {
   "cell_type": "markdown",
   "id": "8d74aee3",
   "metadata": {},
   "source": [
    "#### 9. Symmetric Difference"
   ]
  },
  {
   "cell_type": "code",
   "execution_count": 9,
   "id": "330303bb",
   "metadata": {},
   "outputs": [
    {
     "name": "stdout",
     "output_type": "stream",
     "text": [
      "4\n",
      "2 4 5 9\n",
      "4\n",
      "2 4 11 12\n",
      "5\n",
      "9\n",
      "11\n",
      "12\n"
     ]
    }
   ],
   "source": [
    "M = input()\n",
    "a = set(map(int, input().split()))\n",
    "N = input()\n",
    "b = set(map(int, input().split()))\n",
    "\n",
    "print(*sorted(a ^ b), sep='\\n')"
   ]
  },
  {
   "cell_type": "markdown",
   "id": "5678fc74",
   "metadata": {},
   "source": [
    "#### 10. Set.add() "
   ]
  },
  {
   "cell_type": "code",
   "execution_count": 11,
   "id": "73a94679",
   "metadata": {},
   "outputs": [
    {
     "name": "stdout",
     "output_type": "stream",
     "text": [
      "5\n",
      "UK\n",
      "India\n",
      "UK\n",
      "France\n",
      "India\n",
      "3\n"
     ]
    }
   ],
   "source": [
    "n = int(input())\n",
    "s = set()\n",
    "for i in range(n):\n",
    "    s.add(input())\n",
    "print(len(s))"
   ]
  },
  {
   "cell_type": "markdown",
   "id": "598f3396",
   "metadata": {},
   "source": [
    "#### 11. Set.discard(), .remove() & .pop() "
   ]
  },
  {
   "cell_type": "code",
   "execution_count": 12,
   "id": "3a7dc195",
   "metadata": {},
   "outputs": [
    {
     "name": "stdout",
     "output_type": "stream",
     "text": [
      "9\n",
      "1 2 3 4 5 6 7 8 9\n",
      "10\n",
      "pop\n",
      "remove 9\n",
      "discard 9\n",
      "discard 8\n",
      "remove 7\n",
      "pop\n",
      "discard 6\n",
      "remove 5\n",
      "pop\n",
      "discard 5\n",
      "4\n"
     ]
    }
   ],
   "source": [
    "n = int(input())\n",
    "s = set(map(int, input().split()))\n",
    "lst =[]\n",
    "n1 = int(input())\n",
    "for i in range(n1):\n",
    "    lst.append(input().split())\n",
    "for i in range(n1):\n",
    "    if lst[i][0] ==\"pop\":\n",
    "        s.pop()\n",
    "    if lst[i][0] ==\"remove\":\n",
    "        s.remove(int(lst[i][1]))\n",
    "    if lst[i][0] ==\"discard\":\n",
    "        s.discard(int(lst[i][1]))\n",
    "print(sum(s))"
   ]
  },
  {
   "cell_type": "markdown",
   "id": "650a4826",
   "metadata": {},
   "source": [
    "#### 12. Set.union() operation "
   ]
  },
  {
   "cell_type": "code",
   "execution_count": 13,
   "id": "3ac4ed39",
   "metadata": {},
   "outputs": [
    {
     "name": "stdout",
     "output_type": "stream",
     "text": [
      "9\n",
      "1 2 3 4 5 6 7 8 9\n",
      "9\n",
      "10 1 2 3 11 21 55 6 8\n",
      "13\n"
     ]
    }
   ],
   "source": [
    "n, N = (int(input()), set(map(int, input().split())))\n",
    "b, B = (int(input()), set(map(int, input().split())))\n",
    "print(len(N.union(B)))"
   ]
  },
  {
   "cell_type": "markdown",
   "id": "955c46a8",
   "metadata": {},
   "source": [
    "#### 13. Set.intersection() operation "
   ]
  },
  {
   "cell_type": "code",
   "execution_count": 14,
   "id": "886ae930",
   "metadata": {},
   "outputs": [
    {
     "name": "stdout",
     "output_type": "stream",
     "text": [
      "9\n",
      "1 2 3 4 5 6 7 8 9\n",
      "9\n",
      "10 1 2 3 11 21 55 6 8\n",
      "5\n"
     ]
    }
   ],
   "source": [
    "n, N = (int(input()), set(map(int, input().split())))\n",
    "b, B = (int(input()), set(map(int, input().split())))\n",
    "print(len(N.intersection(B)))"
   ]
  },
  {
   "cell_type": "markdown",
   "id": "6597d788",
   "metadata": {},
   "source": [
    "#### 14. Set.difference() operation "
   ]
  },
  {
   "cell_type": "code",
   "execution_count": 15,
   "id": "6b4fc790",
   "metadata": {},
   "outputs": [
    {
     "name": "stdout",
     "output_type": "stream",
     "text": [
      "9\n",
      "1 2 3 4 5 6 7 8 9\n",
      "9\n",
      "10 1 2 3 11 21 55 6 8\n",
      "4\n"
     ]
    }
   ],
   "source": [
    "input()\n",
    "a = set(map(int, input().split()))\n",
    "input()\n",
    "b = set(map(int, input().split()))\n",
    "print(len(a-b))"
   ]
  },
  {
   "cell_type": "markdown",
   "id": "7fada80e",
   "metadata": {},
   "source": [
    "#### 15. Set.symmetric_difference() operation "
   ]
  },
  {
   "cell_type": "code",
   "execution_count": 16,
   "id": "cdd2f713",
   "metadata": {},
   "outputs": [
    {
     "name": "stdout",
     "output_type": "stream",
     "text": [
      "9\n",
      "1 2 3 4 5 6 7 8 9\n",
      "9\n",
      "10 1 2 3 11 21 55 6 8\n",
      "8\n"
     ]
    }
   ],
   "source": [
    "input()\n",
    "a = set(map(int, input().split()))\n",
    "input()\n",
    "b = set(map(int, input().split()))\n",
    "print(len(a.symmetric_difference(b)))"
   ]
  },
  {
   "cell_type": "markdown",
   "id": "9c4bf18f",
   "metadata": {},
   "source": [
    "#### 16. Set Mutations "
   ]
  },
  {
   "cell_type": "code",
   "execution_count": 17,
   "id": "883e2c76",
   "metadata": {},
   "outputs": [
    {
     "name": "stdout",
     "output_type": "stream",
     "text": [
      "16\n",
      "1 2 3 4 5 6 7 8 9 10 11 12 13 14 24 52\n",
      "4\n",
      "intersection_update 10\n",
      "2 3 5 6 8 9 1 4 7 11\n",
      "update 2\n",
      "55 66\n",
      "symmetric_difference_update 5\n",
      "22 7 35 62 58\n",
      "difference_update 7\n",
      "11 22 35 55 58 62 66\n",
      "38\n"
     ]
    }
   ],
   "source": [
    "input()\n",
    "a = set(map(int, input().split()))\n",
    "\n",
    "for _ in range(int(input())):\n",
    "    name, *_ = input().split()\n",
    "    getattr(a, name)(set(map(int, input().split())))\n",
    "\n",
    "print(sum(a))"
   ]
  },
  {
   "cell_type": "markdown",
   "id": "94c2db08",
   "metadata": {},
   "source": [
    "#### 17. The Captain's Room "
   ]
  },
  {
   "cell_type": "code",
   "execution_count": 18,
   "id": "6a272f57",
   "metadata": {},
   "outputs": [
    {
     "name": "stdout",
     "output_type": "stream",
     "text": [
      "5\n",
      "1 2 3 6 5 4 4 2 5 3 6 1 6 5 3 2 4 1 2 5 1 4 3 6 8 4 3 1 5 6 2 \n",
      "8\n"
     ]
    }
   ],
   "source": [
    "from collections import Counter\n",
    "\n",
    "input()\n",
    "print(Counter(input().split()).most_common()[-1][0])"
   ]
  },
  {
   "cell_type": "markdown",
   "id": "c73eea2d",
   "metadata": {},
   "source": [
    "#### 18. Check Subset "
   ]
  },
  {
   "cell_type": "code",
   "execution_count": 19,
   "id": "5459faf7",
   "metadata": {},
   "outputs": [
    {
     "name": "stdout",
     "output_type": "stream",
     "text": [
      "3\n",
      "5\n",
      "1 2 3 5 6\n",
      "9\n",
      "9 8 5 6 3 2 1 4 7\n",
      "True\n",
      "1\n",
      "2\n",
      "5\n",
      "3 6 5 4 1\n",
      "False\n",
      "7\n",
      "1 2 3 5 6 8 9\n",
      "3\n",
      "9\n",
      "False\n"
     ]
    }
   ],
   "source": [
    "t=int(input())\n",
    "for i in range(t):\n",
    "    l=[]\n",
    "    l1=[]\n",
    "    c=0\n",
    "    n1=int(input())\n",
    "    l=list(map(int,input().split()))\n",
    "    n2=int(input())\n",
    "    l1=list(map(int,input().split()))\n",
    "    for i in l:\n",
    "        if i in l1:\n",
    "            c=c+1\n",
    "    if c==len(l):\n",
    "        print(True)\n",
    "    else:\n",
    "        print(False)    "
   ]
  },
  {
   "cell_type": "markdown",
   "id": "b9186c65",
   "metadata": {},
   "source": [
    "#### 19. Check Strict Superset"
   ]
  },
  {
   "cell_type": "code",
   "execution_count": 20,
   "id": "07984140",
   "metadata": {},
   "outputs": [
    {
     "name": "stdout",
     "output_type": "stream",
     "text": [
      "1 2 3 4 5 6 7 8 9 10 11 12 23 45 84 78\n",
      "2\n",
      "1 2 3 4 5\n",
      "100  11 12\n",
      "False\n"
     ]
    }
   ],
   "source": [
    "result = []\n",
    "set1 = set(map(int,input().split()))\n",
    "for _ in range(int(input())):\n",
    "    set2 = set(map(int,input().split()))\n",
    "    if set1.issuperset(set2):\n",
    "        result.append(True)\n",
    "    else:\n",
    "        result.append(False)\n",
    "        \n",
    "if False in result:\n",
    "    print(False)\n",
    "else:\n",
    "    print(True)"
   ]
  }
 ],
 "metadata": {
  "kernelspec": {
   "display_name": "Python 3",
   "language": "python",
   "name": "python3"
  },
  "language_info": {
   "codemirror_mode": {
    "name": "ipython",
    "version": 3
   },
   "file_extension": ".py",
   "mimetype": "text/x-python",
   "name": "python",
   "nbconvert_exporter": "python",
   "pygments_lexer": "ipython3",
   "version": "3.9.4"
  }
 },
 "nbformat": 4,
 "nbformat_minor": 5
}
