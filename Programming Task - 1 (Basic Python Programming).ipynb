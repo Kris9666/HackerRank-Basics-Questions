{
 "cells": [
  {
   "cell_type": "markdown",
   "id": "e78cb52a",
   "metadata": {},
   "source": [
    "### HackerRank Python Introduction"
   ]
  },
  {
   "cell_type": "markdown",
   "id": "6cac0782",
   "metadata": {},
   "source": [
    "#### 1. Say \"Hello, World!\" With Python"
   ]
  },
  {
   "cell_type": "code",
   "execution_count": 1,
   "id": "05aa80a6",
   "metadata": {},
   "outputs": [
    {
     "name": "stdout",
     "output_type": "stream",
     "text": [
      "Hello, World!\n"
     ]
    }
   ],
   "source": [
    "if __name__ == '__main__':\n",
    "    print(\"Hello, World!\")"
   ]
  },
  {
   "cell_type": "markdown",
   "id": "4af3a3ce",
   "metadata": {},
   "source": [
    "#### 2. Python If-Else "
   ]
  },
  {
   "cell_type": "code",
   "execution_count": 4,
   "id": "65087ce2",
   "metadata": {},
   "outputs": [
    {
     "name": "stdout",
     "output_type": "stream",
     "text": [
      "3\n",
      "Weird\n"
     ]
    }
   ],
   "source": [
    "import math\n",
    "import os\n",
    "import random\n",
    "import re\n",
    "import sys\n",
    "\n",
    "if __name__ == '__main__':\n",
    "    n = int(input().strip())\n",
    "    if n%2 == 1:\n",
    "        print(\"Weird\")\n",
    "    elif n%2 == 0:\n",
    "        if n in range(2,6):\n",
    "            print(\"Not Weird\")\n",
    "        elif n in range(6,21):\n",
    "            print(\"Weird\")\n",
    "        elif n > 20:\n",
    "            print(\"Not Weird\")"
   ]
  },
  {
   "cell_type": "markdown",
   "id": "dab4f656",
   "metadata": {},
   "source": [
    "#### 3. Arithmetic Operators "
   ]
  },
  {
   "cell_type": "code",
   "execution_count": 5,
   "id": "72aeb1a1",
   "metadata": {},
   "outputs": [
    {
     "name": "stdout",
     "output_type": "stream",
     "text": [
      "3\n",
      "2\n",
      "5\n",
      "1\n",
      "6\n"
     ]
    }
   ],
   "source": [
    "if __name__ == '__main__':\n",
    "    a = int(input())\n",
    "    b = int(input())\n",
    "    print(a+b)\n",
    "    print(a-b)\n",
    "    print(a*b)"
   ]
  },
  {
   "cell_type": "markdown",
   "id": "a8d26f20",
   "metadata": {},
   "source": [
    "#### 4. Python Division"
   ]
  },
  {
   "cell_type": "code",
   "execution_count": 6,
   "id": "0079451a",
   "metadata": {},
   "outputs": [
    {
     "name": "stdout",
     "output_type": "stream",
     "text": [
      "4\n",
      "3\n",
      "1\n",
      "1.3333333333333333\n"
     ]
    }
   ],
   "source": [
    "if __name__ == '__main__':\n",
    "    a = int(input())\n",
    "    b = int(input())\n",
    "    print(a // b)\n",
    "    print(a / b)"
   ]
  },
  {
   "cell_type": "markdown",
   "id": "7ec435fd",
   "metadata": {},
   "source": [
    "#### 5. Loops"
   ]
  },
  {
   "cell_type": "code",
   "execution_count": 7,
   "id": "51654ab3",
   "metadata": {},
   "outputs": [
    {
     "name": "stdout",
     "output_type": "stream",
     "text": [
      "5\n",
      "0\n",
      "1\n",
      "4\n",
      "9\n",
      "16\n"
     ]
    }
   ],
   "source": [
    "if __name__ == '__main__':\n",
    "    n = int(input())\n",
    "    for i in range(0,n):\n",
    "        print(i*i)"
   ]
  },
  {
   "cell_type": "markdown",
   "id": "507cae68",
   "metadata": {},
   "source": [
    "#### 6. Write a Function"
   ]
  },
  {
   "cell_type": "code",
   "execution_count": 9,
   "id": "3ef296a3",
   "metadata": {},
   "outputs": [
    {
     "name": "stdout",
     "output_type": "stream",
     "text": [
      "1990\n",
      "False\n"
     ]
    }
   ],
   "source": [
    "def is_leap(year):\n",
    "    leap = False\n",
    "    \n",
    "    if (year%4 == 0) and (year%100 != 0):\n",
    "        leap = True\n",
    "    elif (year % 400 == 0):\n",
    "        leap = True\n",
    "    else:\n",
    "        leap = False\n",
    "    return leap\n",
    "\n",
    "year = int(input())\n",
    "print(is_leap(year))"
   ]
  },
  {
   "cell_type": "markdown",
   "id": "5b7af7fb",
   "metadata": {},
   "source": [
    "#### 7. Print Function"
   ]
  },
  {
   "cell_type": "code",
   "execution_count": 10,
   "id": "0e5cc23f",
   "metadata": {},
   "outputs": [
    {
     "name": "stdout",
     "output_type": "stream",
     "text": [
      "3\n",
      "123\n"
     ]
    }
   ],
   "source": [
    "if __name__ == '__main__':\n",
    "    n = int(input())\n",
    "    s = ''\n",
    "    while(n > 0):\n",
    "        s = str(n) + s\n",
    "        n = int(n)\n",
    "        n = n-1\n",
    "    print(s)"
   ]
  }
 ],
 "metadata": {
  "kernelspec": {
   "display_name": "Python 3",
   "language": "python",
   "name": "python3"
  },
  "language_info": {
   "codemirror_mode": {
    "name": "ipython",
    "version": 3
   },
   "file_extension": ".py",
   "mimetype": "text/x-python",
   "name": "python",
   "nbconvert_exporter": "python",
   "pygments_lexer": "ipython3",
   "version": "3.9.4"
  }
 },
 "nbformat": 4,
 "nbformat_minor": 5
}
