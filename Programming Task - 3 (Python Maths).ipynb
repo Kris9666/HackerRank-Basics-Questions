{
 "cells": [
  {
   "cell_type": "markdown",
   "id": "04541683",
   "metadata": {},
   "source": [
    "### HackerRank Python Maths"
   ]
  },
  {
   "cell_type": "markdown",
   "id": "996f9a1f",
   "metadata": {},
   "source": [
    "#### 1. Polar Coordinates"
   ]
  },
  {
   "cell_type": "code",
   "execution_count": 1,
   "id": "b2f99bfb",
   "metadata": {},
   "outputs": [
    {
     "name": "stdout",
     "output_type": "stream",
     "text": [
      "1+2j\n",
      "2.23606797749979\n",
      "1.1071487177940904\n"
     ]
    }
   ],
   "source": [
    "import cmath\n",
    "\n",
    "z = complex(input())\n",
    "print(abs(z))\n",
    "print(cmath.phase(z))"
   ]
  },
  {
   "cell_type": "markdown",
   "id": "5933c1f0",
   "metadata": {},
   "source": [
    "#### 2. Find Angle MBC"
   ]
  },
  {
   "cell_type": "code",
   "execution_count": 2,
   "id": "7845c611",
   "metadata": {},
   "outputs": [
    {
     "name": "stdout",
     "output_type": "stream",
     "text": [
      "10\n",
      "10\n",
      "45°\n"
     ]
    }
   ],
   "source": [
    "from math import atan, degrees\n",
    "\n",
    "AB = int(input())\n",
    "BC = int(input())\n",
    "print(str(round(degrees(atan(AB/BC)))) + '\\xb0')"
   ]
  },
  {
   "cell_type": "markdown",
   "id": "213da52f",
   "metadata": {},
   "source": [
    "#### 3. Triangle Quest 2"
   ]
  },
  {
   "cell_type": "code",
   "execution_count": 3,
   "id": "ac766e84",
   "metadata": {},
   "outputs": [
    {
     "name": "stdout",
     "output_type": "stream",
     "text": [
      "5\n",
      "1\n",
      "121\n",
      "12321\n",
      "1234321\n",
      "123454321\n"
     ]
    }
   ],
   "source": [
    "for i in range(1,int(input())+1):\n",
    "    print((10**i//9)**2)"
   ]
  },
  {
   "cell_type": "markdown",
   "id": "065f32d7",
   "metadata": {},
   "source": [
    "#### 4. Mod Divmod"
   ]
  },
  {
   "cell_type": "code",
   "execution_count": 5,
   "id": "ffa5f810",
   "metadata": {},
   "outputs": [
    {
     "name": "stdout",
     "output_type": "stream",
     "text": [
      "177\n",
      "10\n",
      "17\n",
      "7\n",
      "(17, 7)\n"
     ]
    }
   ],
   "source": [
    "a = int(input())\n",
    "b = int(input())\n",
    "\n",
    "print(a // b)\n",
    "print(a % b)\n",
    "print(divmod(a, b))"
   ]
  },
  {
   "cell_type": "markdown",
   "id": "f6dd5b62",
   "metadata": {},
   "source": [
    "#### 5. Power - Mod Power"
   ]
  },
  {
   "cell_type": "code",
   "execution_count": 6,
   "id": "69827f70",
   "metadata": {},
   "outputs": [
    {
     "name": "stdout",
     "output_type": "stream",
     "text": [
      "3\n",
      "4\n",
      "5\n",
      "81\n",
      "1\n"
     ]
    }
   ],
   "source": [
    "a = int(input())\n",
    "b = int(input())\n",
    "m = int(input())\n",
    "print(pow(a,b))\n",
    "print(pow(a,b,m))"
   ]
  },
  {
   "cell_type": "markdown",
   "id": "44db8fbd",
   "metadata": {},
   "source": [
    "#### 6. Integers Come in All Sizes"
   ]
  },
  {
   "cell_type": "code",
   "execution_count": 7,
   "id": "567201f9",
   "metadata": {},
   "outputs": [
    {
     "name": "stdout",
     "output_type": "stream",
     "text": [
      "9\n",
      "29\n",
      "7\n",
      "27\n",
      "4710194409608608369201743232\n"
     ]
    }
   ],
   "source": [
    "a = int(input())\n",
    "b = int(input())\n",
    "c = int(input())\n",
    "d = int(input())\n",
    "temp1 = int(a**b)\n",
    "temp2 = int(c**d)\n",
    "print(temp1 + temp2)"
   ]
  },
  {
   "cell_type": "markdown",
   "id": "c4d1a0c5",
   "metadata": {},
   "source": [
    "#### 7. Triangle Quest"
   ]
  },
  {
   "cell_type": "code",
   "execution_count": 8,
   "id": "968bc1f3",
   "metadata": {},
   "outputs": [
    {
     "name": "stdout",
     "output_type": "stream",
     "text": [
      "5\n",
      "1\n",
      "22\n",
      "333\n",
      "4444\n"
     ]
    }
   ],
   "source": [
    "for i in range(1,int(input())):\n",
    "    print(i*round(10**(i)*(1/9)))"
   ]
  }
 ],
 "metadata": {
  "kernelspec": {
   "display_name": "Python 3",
   "language": "python",
   "name": "python3"
  },
  "language_info": {
   "codemirror_mode": {
    "name": "ipython",
    "version": 3
   },
   "file_extension": ".py",
   "mimetype": "text/x-python",
   "name": "python",
   "nbconvert_exporter": "python",
   "pygments_lexer": "ipython3",
   "version": "3.9.4"
  }
 },
 "nbformat": 4,
 "nbformat_minor": 5
}
